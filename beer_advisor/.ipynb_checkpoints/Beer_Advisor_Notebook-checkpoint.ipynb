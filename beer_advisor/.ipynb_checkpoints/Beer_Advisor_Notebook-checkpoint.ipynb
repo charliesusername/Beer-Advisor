{
 "cells": [
  {
   "cell_type": "code",
   "execution_count": 22,
   "metadata": {},
   "outputs": [],
   "source": [
    "from IPython.display import display\n",
    "import ipywidgets as widgets\n",
    "import pandas as pd\n",
    "import numpy as np"
   ]
  },
  {
   "cell_type": "code",
   "execution_count": 78,
   "metadata": {},
   "outputs": [],
   "source": [
    "beers = pd.read_csv('data/beer_info.csv').drop('Unnamed: 0',axis=1)"
   ]
  },
  {
   "cell_type": "code",
   "execution_count": 41,
   "metadata": {},
   "outputs": [
    {
     "data": {
      "text/plain": [
       "array(['(512) Brewing Company', '10 Barrel Brewing Co.',\n",
       "       '101 North Brewing Company', ..., 'von Trapp Brewing',\n",
       "       '\\x8eŽatecký Pivovar', 'Ölvisholt Brugghús'], dtype=object)"
      ]
     },
     "execution_count": 41,
     "metadata": {},
     "output_type": "execute_result"
    }
   ],
   "source": [
    "beers.sort_values('brewery').brewery.unique()"
   ]
  },
  {
   "cell_type": "code",
   "execution_count": 80,
   "metadata": {},
   "outputs": [
    {
     "data": {
      "text/html": [
       "<div>\n",
       "<style scoped>\n",
       "    .dataframe tbody tr th:only-of-type {\n",
       "        vertical-align: middle;\n",
       "    }\n",
       "\n",
       "    .dataframe tbody tr th {\n",
       "        vertical-align: top;\n",
       "    }\n",
       "\n",
       "    .dataframe thead th {\n",
       "        text-align: right;\n",
       "    }\n",
       "</style>\n",
       "<table border=\"1\" class=\"dataframe\">\n",
       "  <thead>\n",
       "    <tr style=\"text-align: right;\">\n",
       "      <th></th>\n",
       "      <th>BAscore</th>\n",
       "      <th>abv</th>\n",
       "      <th>beer_id</th>\n",
       "      <th>beer_img</th>\n",
       "      <th>beer_name</th>\n",
       "      <th>beer_style</th>\n",
       "      <th>brewery</th>\n",
       "      <th>desc</th>\n",
       "      <th>num_reviews</th>\n",
       "      <th>ranking</th>\n",
       "    </tr>\n",
       "  </thead>\n",
       "  <tbody>\n",
       "    <tr>\n",
       "      <th>0</th>\n",
       "      <td>4.35</td>\n",
       "      <td>7.0</td>\n",
       "      <td>1</td>\n",
       "      <td>https://cdn.beeradvocate.com/im/beers/141544.jpg</td>\n",
       "      <td>Yakima Fresh Hop</td>\n",
       "      <td>American IPA</td>\n",
       "      <td>Columbus Brewing Company</td>\n",
       "      <td>None provided.</td>\n",
       "      <td>29</td>\n",
       "      <td>1033</td>\n",
       "    </tr>\n",
       "    <tr>\n",
       "      <th>1</th>\n",
       "      <td>3.59</td>\n",
       "      <td>7.0</td>\n",
       "      <td>2</td>\n",
       "      <td>https://cdn.beeradvocate.com/im/beers/94770.jpg</td>\n",
       "      <td>Red Clay IPA</td>\n",
       "      <td>American IPA</td>\n",
       "      <td>Sunken City Brewing Company</td>\n",
       "      <td>None provided.</td>\n",
       "      <td>24</td>\n",
       "      <td>38065</td>\n",
       "    </tr>\n",
       "  </tbody>\n",
       "</table>\n",
       "</div>"
      ],
      "text/plain": [
       "   BAscore  abv  beer_id                                          beer_img  \\\n",
       "0     4.35  7.0        1  https://cdn.beeradvocate.com/im/beers/141544.jpg   \n",
       "1     3.59  7.0        2   https://cdn.beeradvocate.com/im/beers/94770.jpg   \n",
       "\n",
       "          beer_name    beer_style                      brewery  \\\n",
       "0  Yakima Fresh Hop  American IPA     Columbus Brewing Company   \n",
       "1      Red Clay IPA  American IPA  Sunken City Brewing Company   \n",
       "\n",
       "             desc  num_reviews ranking  \n",
       "0  None provided.           29    1033  \n",
       "1  None provided.           24   38065  "
      ]
     },
     "execution_count": 80,
     "metadata": {},
     "output_type": "execute_result"
    }
   ],
   "source": [
    "beers.head(2)"
   ]
  },
  {
   "cell_type": "code",
   "execution_count": 135,
   "metadata": {},
   "outputs": [],
   "source": [
    "rate_slider = widgets.FloatSlider(\n",
    "    value=7.5,\n",
    "    min=1.0,\n",
    "    max=5.0,\n",
    "    step=0.1,\n",
    "    description='Rate:',\n",
    "    disabled=False,\n",
    "    continuous_update=False,\n",
    "    orientation='horizontal',\n",
    "    readout=True,\n",
    "    readout_format='.1f',\n",
    ")\n",
    "add_beer = widgets.Button(\n",
    "    description='Add Beer',\n",
    "    disabled=False,\n",
    "    button_style='', # 'success', 'info', 'warning', 'danger' or ''\n",
    "    tooltip='Add Beer',\n",
    "    icon='check'\n",
    ")\n",
    "\n",
    "user_pref = pd.DataFrame({'beer':[],'rate':[]})"
   ]
  },
  {
   "cell_type": "code",
   "execution_count": 116,
   "metadata": {},
   "outputs": [
    {
     "data": {
      "application/vnd.jupyter.widget-view+json": {
       "model_id": "21b433af2357466d84eac4c6ddf951a0",
       "version_major": 2,
       "version_minor": 0
      },
      "text/plain": [
       "Dropdown(description='Select Brewery:', options=('(512) Brewing Company', '10 Barrel Brewing Co.', '101 North …"
      ]
     },
     "metadata": {},
     "output_type": "display_data"
    }
   ],
   "source": [
    "breweries = beers.sort_values('brewery').brewery.unique()\n",
    "brewery = widgets.Dropdown(\n",
    "    options=breweries,\n",
    "    value=breweries[0],\n",
    "    description='Select Brewery:',\n",
    "    disabled=False,\n",
    ")\n",
    "display(brewery)"
   ]
  },
  {
   "cell_type": "code",
   "execution_count": 138,
   "metadata": {},
   "outputs": [
    {
     "ename": "SyntaxError",
     "evalue": "invalid syntax (<ipython-input-138-e839e86bf7c1>, line 16)",
     "output_type": "error",
     "traceback": [
      "\u001b[1;36m  File \u001b[1;32m\"<ipython-input-138-e839e86bf7c1>\"\u001b[1;36m, line \u001b[1;32m16\u001b[0m\n\u001b[1;33m    with output:\u001b[0m\n\u001b[1;37m       ^\u001b[0m\n\u001b[1;31mSyntaxError\u001b[0m\u001b[1;31m:\u001b[0m invalid syntax\n"
     ]
    }
   ],
   "source": [
    "beer_list = beers[beers.brewery == brewery.value][['beer_id','beer_name']]\n",
    "beer_list = list(zip(beer_list.beer_name.values,beer_list.beer_id.values))\n",
    "beer_list = beers[beers.brewery == brewery.value][['beer_id','beer_name']]\n",
    "beer_list = list(zip(beer_list.beer_name.values,beer_list.beer_id.values))\n",
    "beers_select = widgets.Dropdown(\n",
    "    options=beer_list,\n",
    "    value=beer_list[0][1],\n",
    "    description='Select Beer:',\n",
    "    disabled=False,\n",
    ")\n",
    "output = widgets.Output()\n",
    "display(beers_select,rate_slider,add_beer,output)\n",
    "\n",
    "def on_addbeer_clicked(b):\n",
    "    user_pref.append(pd.DataFrame({'beer':beers_select.value,'rate':rate_slider.value}))\n",
    "    with output:\n",
    "        print(user_pref)\n",
    "\n",
    "add_beer.on_click(on_addbeer_clicked)"
   ]
  },
  {
   "cell_type": "code",
   "execution_count": 119,
   "metadata": {},
   "outputs": [
    {
     "data": {
      "text/plain": [
       "(7683, 3.1)"
      ]
     },
     "execution_count": 119,
     "metadata": {},
     "output_type": "execute_result"
    }
   ],
   "source": [
    "beers_select.value, rate_slider.value"
   ]
  },
  {
   "cell_type": "code",
   "execution_count": 120,
   "metadata": {},
   "outputs": [],
   "source": [
    "user_pref = {'beer':[],'rate':[]}"
   ]
  },
  {
   "cell_type": "code",
   "execution_count": 126,
   "metadata": {},
   "outputs": [
    {
     "data": {
      "application/vnd.jupyter.widget-view+json": {
       "model_id": "64914ba1e56142f5b6af05b95f1cd41c",
       "version_major": 2,
       "version_minor": 0
      },
      "text/plain": [
       "Button(description='Click Me!', style=ButtonStyle())"
      ]
     },
     "metadata": {},
     "output_type": "display_data"
    },
    {
     "data": {
      "application/vnd.jupyter.widget-view+json": {
       "model_id": "f889d211f45042d5a7a5c452e72882b6",
       "version_major": 2,
       "version_minor": 0
      },
      "text/plain": [
       "Output()"
      ]
     },
     "metadata": {},
     "output_type": "display_data"
    }
   ],
   "source": [
    "\n",
    "from IPython.display import display\n",
    "button = widgets.Button(description=\"Click Me!\")\n",
    "output = widgets.Output()\n",
    "\n",
    "display(button, output)\n",
    "\n",
    "def on_button_clicked(b):\n",
    "    with output:\n",
    "        print(\"Button clicked.\")\n",
    "\n",
    "button.on_click(on_button_clicked)\n",
    "\n"
   ]
  }
 ],
 "metadata": {
  "kernelspec": {
   "display_name": "Python 3",
   "language": "python",
   "name": "python3"
  },
  "language_info": {
   "codemirror_mode": {
    "name": "ipython",
    "version": 3
   },
   "file_extension": ".py",
   "mimetype": "text/x-python",
   "name": "python",
   "nbconvert_exporter": "python",
   "pygments_lexer": "ipython3",
   "version": "3.7.3"
  },
  "varInspector": {
   "cols": {
    "lenName": 16,
    "lenType": 16,
    "lenVar": 40
   },
   "kernels_config": {
    "python": {
     "delete_cmd_postfix": "",
     "delete_cmd_prefix": "del ",
     "library": "var_list.py",
     "varRefreshCmd": "print(var_dic_list())"
    },
    "r": {
     "delete_cmd_postfix": ") ",
     "delete_cmd_prefix": "rm(",
     "library": "var_list.r",
     "varRefreshCmd": "cat(var_dic_list()) "
    }
   },
   "types_to_exclude": [
    "module",
    "function",
    "builtin_function_or_method",
    "instance",
    "_Feature"
   ],
   "window_display": false
  }
 },
 "nbformat": 4,
 "nbformat_minor": 2
}
