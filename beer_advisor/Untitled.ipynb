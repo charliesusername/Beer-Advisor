{
 "cells": [
  {
   "cell_type": "code",
   "execution_count": 2,
   "metadata": {},
   "outputs": [],
   "source": [
    "from scripts.BeerRecommenderMain import *"
   ]
  },
  {
   "cell_type": "code",
   "execution_count": 3,
   "metadata": {},
   "outputs": [
    {
     "data": {
      "application/vnd.jupyter.widget-view+json": {
       "model_id": "d1eb908037654691a24b44ef8a217170",
       "version_major": 2,
       "version_minor": 0
      },
      "text/plain": [
       "Dropdown(description='Brewery:', index=1, options=('(512) Brewing Company', '10 Barrel Brewing Co.', '101 Nort…"
      ]
     },
     "metadata": {},
     "output_type": "display_data"
    },
    {
     "data": {
      "text/html": [
       "<div>\n",
       "<style scoped>\n",
       "    .dataframe tbody tr th:only-of-type {\n",
       "        vertical-align: middle;\n",
       "    }\n",
       "\n",
       "    .dataframe tbody tr th {\n",
       "        vertical-align: top;\n",
       "    }\n",
       "\n",
       "    .dataframe thead th {\n",
       "        text-align: right;\n",
       "    }\n",
       "</style>\n",
       "<table border=\"1\" class=\"dataframe\">\n",
       "  <thead>\n",
       "    <tr style=\"text-align: right;\">\n",
       "      <th></th>\n",
       "      <th>beers</th>\n",
       "      <th>rates</th>\n",
       "    </tr>\n",
       "  </thead>\n",
       "  <tbody>\n",
       "    <tr>\n",
       "      <th>2711</th>\n",
       "      <td>2711.0</td>\n",
       "      <td>3.5</td>\n",
       "    </tr>\n",
       "    <tr>\n",
       "      <th>7972</th>\n",
       "      <td>7972.0</td>\n",
       "      <td>3.5</td>\n",
       "    </tr>\n",
       "    <tr>\n",
       "      <th>4</th>\n",
       "      <td>4.0</td>\n",
       "      <td>3.5</td>\n",
       "    </tr>\n",
       "  </tbody>\n",
       "</table>\n",
       "</div>"
      ],
      "text/plain": [
       "       beers  rates\n",
       "2711  2711.0    3.5\n",
       "7972  7972.0    3.5\n",
       "4        4.0    3.5"
      ]
     },
     "metadata": {},
     "output_type": "display_data"
    },
    {
     "data": {
      "application/vnd.jupyter.widget-view+json": {
       "model_id": "a338c93668af4900ad76779cb98630aa",
       "version_major": 2,
       "version_minor": 0
      },
      "text/plain": [
       "Button(button_style='warning', description='Clear Last Beer', icon='check', style=ButtonStyle(), tooltip='Remo…"
      ]
     },
     "metadata": {},
     "output_type": "display_data"
    }
   ],
   "source": [
    "display(begin_recommender_btn)\n",
    "begin_recommender_btn.on_click(beer_recommender)"
   ]
  },
  {
   "cell_type": "code",
   "execution_count": null,
   "metadata": {},
   "outputs": [],
   "source": [
    "beers = []\n",
    "rates = []"
   ]
  },
  {
   "cell_type": "code",
   "execution_count": null,
   "metadata": {},
   "outputs": [],
   "source": [
    "add_beer_to_list(11,2.1)\n",
    "user_prefs"
   ]
  },
  {
   "cell_type": "code",
   "execution_count": null,
   "metadata": {},
   "outputs": [],
   "source": [
    "def add_beer_to_list(b,r):\n",
    "    global user_prefs, beers_, rates_\n",
    "    beers_.append(b)\n",
    "    rates_.append(r)\n",
    "    user_prefs = pd.DataFrame({'beers':beers_,'rates':rates_})\n",
    "    user_prefs.drop_duplicates('beers',keep='last',inplace=True)\n",
    "    beers_ = list(user_prefs.beers.values)\n",
    "    rates_ = list(user_prefs.rates.values)\n",
    "    \n",
    "    \n",
    "def remove_last_row():\n",
    "    global user_prefs, beers_, rates_\n",
    "    user_prefs.drop(user_prefs.tail(1).index,inplace=True)\n",
    "    del rates_[-1]\n",
    "    del beers_[-1]\n",
    "import pandas as pd"
   ]
  },
  {
   "cell_type": "code",
   "execution_count": null,
   "metadata": {},
   "outputs": [],
   "source": [
    "rates_ = []\n",
    "beers_ = []\n",
    "add_beer_to_list(2,1.6)\n",
    "add_beer_to_list(3,2.5)\n",
    "remove_last_row()\n",
    "add_beer_to_list(4,1.9)\n",
    "add_beer_to_list(4,2.8)\n",
    "display(user_prefs)\n",
    "print(beers_, rates_)"
   ]
  },
  {
   "cell_type": "code",
   "execution_count": 4,
   "metadata": {},
   "outputs": [],
   "source": [
    "def beer_recommender(b):\n",
    "    begin_recommender_btn.close()\n",
    "    global user_prefs\n",
    "\n",
    "    def get_brewery_selection(b):\n",
    "        beer_list = beers[beers.brewery == select_brewery.value][['beer_id','beer_name']]\n",
    "        beer_list = list(zip(beer_list.beer_name.values,beer_list.beer_id.values))\n",
    "        select_beer = widgets.Dropdown(\n",
    "            options=beer_list,\n",
    "            value=beer_list[0][1],\n",
    "            description='Select a Beer:',\n",
    "            disabled=False,\n",
    "        )\n",
    "        display(select_beer, rate_slider, add_to_list)\n",
    "        def go_to_add_beer_to_list(b):\n",
    "            \n",
    "            \n",
    "            \n",
    "\n",
    "            add_beer_to_list(select_beer.value,rate_slider.value)\n",
    "            clear_output()\n",
    "\n",
    "            display(select_brewery)\n",
    "           \n",
    "            display(user_prefs)\n",
    "            display(undo_last_beer_btn)\n",
    "            \n",
    "\n",
    "        add_to_list.on_click(go_to_add_beer_to_list)\n",
    "\n",
    "    \n",
    "\n",
    "       \n",
    "            \n",
    "\n",
    "\n",
    "    display(select_brewery)\n",
    "    display(user_prefs)\n",
    "    select_brewery.observe(get_brewery_selection, names = 'value')\n",
    "    undo_last_beer_btn.on_click(remove_last_row)"
   ]
  },
  {
   "cell_type": "code",
   "execution_count": 6,
   "metadata": {},
   "outputs": [
    {
     "data": {
      "application/vnd.jupyter.widget-view+json": {
       "model_id": "d1eb908037654691a24b44ef8a217170",
       "version_major": 2,
       "version_minor": 0
      },
      "text/plain": [
       "Dropdown(description='Brewery:', index=1, options=('(512) Brewing Company', '10 Barrel Brewing Co.', '101 Nort…"
      ]
     },
     "metadata": {},
     "output_type": "display_data"
    },
    {
     "data": {
      "text/html": [
       "<div>\n",
       "<style scoped>\n",
       "    .dataframe tbody tr th:only-of-type {\n",
       "        vertical-align: middle;\n",
       "    }\n",
       "\n",
       "    .dataframe tbody tr th {\n",
       "        vertical-align: top;\n",
       "    }\n",
       "\n",
       "    .dataframe thead th {\n",
       "        text-align: right;\n",
       "    }\n",
       "</style>\n",
       "<table border=\"1\" class=\"dataframe\">\n",
       "  <thead>\n",
       "    <tr style=\"text-align: right;\">\n",
       "      <th></th>\n",
       "      <th>beers</th>\n",
       "      <th>rates</th>\n",
       "    </tr>\n",
       "  </thead>\n",
       "  <tbody>\n",
       "  </tbody>\n",
       "</table>\n",
       "</div>"
      ],
      "text/plain": [
       "Empty DataFrame\n",
       "Columns: [beers, rates]\n",
       "Index: []"
      ]
     },
     "metadata": {},
     "output_type": "display_data"
    },
    {
     "data": {
      "application/vnd.jupyter.widget-view+json": {
       "model_id": "38ff583067bc442f88bca7d043a90ddb",
       "version_major": 2,
       "version_minor": 0
      },
      "text/plain": [
       "Dropdown(description='Select a Beer:', options=(('Art Of Neurosis', 165), ('Brew Cocky', 1920), ('Katy', 4509)…"
      ]
     },
     "metadata": {},
     "output_type": "display_data"
    },
    {
     "data": {
      "application/vnd.jupyter.widget-view+json": {
       "model_id": "e2579ccb4ea0485cb0ad5105d32c5048",
       "version_major": 2,
       "version_minor": 0
      },
      "text/plain": [
       "FloatSlider(value=3.5, continuous_update=False, description='Rate:', max=5.0, min=1.0, readout_format='.1f')"
      ]
     },
     "metadata": {},
     "output_type": "display_data"
    },
    {
     "data": {
      "application/vnd.jupyter.widget-view+json": {
       "model_id": "73fdecf9119d402d828eaa403961a75d",
       "version_major": 2,
       "version_minor": 0
      },
      "text/plain": [
       "Button(description='Add Beer to List', icon='check', style=ButtonStyle(), tooltip='Add Beer to List')"
      ]
     },
     "metadata": {},
     "output_type": "display_data"
    },
    {
     "data": {
      "application/vnd.jupyter.widget-view+json": {
       "model_id": "982c21ece48c4940bcd030af3a04624b",
       "version_major": 2,
       "version_minor": 0
      },
      "text/plain": [
       "Dropdown(description='Select a Beer:', options=(('Art Of Neurosis', 165), ('Brew Cocky', 1920), ('Katy', 4509)…"
      ]
     },
     "metadata": {},
     "output_type": "display_data"
    },
    {
     "data": {
      "application/vnd.jupyter.widget-view+json": {
       "model_id": "e2579ccb4ea0485cb0ad5105d32c5048",
       "version_major": 2,
       "version_minor": 0
      },
      "text/plain": [
       "FloatSlider(value=3.5, continuous_update=False, description='Rate:', max=5.0, min=1.0, readout_format='.1f')"
      ]
     },
     "metadata": {},
     "output_type": "display_data"
    },
    {
     "data": {
      "application/vnd.jupyter.widget-view+json": {
       "model_id": "73fdecf9119d402d828eaa403961a75d",
       "version_major": 2,
       "version_minor": 0
      },
      "text/plain": [
       "Button(description='Add Beer to List', icon='check', style=ButtonStyle(), tooltip='Add Beer to List')"
      ]
     },
     "metadata": {},
     "output_type": "display_data"
    }
   ],
   "source": [
    "beer_recommender(True)"
   ]
  },
  {
   "cell_type": "code",
   "execution_count": null,
   "metadata": {},
   "outputs": [],
   "source": [
    "def add_beer_to_list(b,r):\n",
    "    global user_prefs       \n",
    "    new_df = pd.DataFrame({'beers':[b],'rates':[r]},index=[b])\n",
    "    user_prefs = user_prefs.append(new_df)\n",
    "    user_prefs.drop_duplicates('beers',keep='last',inplace=True)\n",
    "def remove_last_row(b=True):\n",
    "    global user_prefs\n",
    "    user_prefs.drop(user_prefs.tail(1).index,inplace=True)    "
   ]
  },
  {
   "cell_type": "code",
   "execution_count": null,
   "metadata": {},
   "outputs": [],
   "source": [
    "display(select_beer, rate_slider, add_to_list)"
   ]
  },
  {
   "cell_type": "code",
   "execution_count": null,
   "metadata": {},
   "outputs": [],
   "source": [
    "new_df = pd.DataFrame({'beers':[select_beer.value],'rates':[rate_slider.value]})"
   ]
  },
  {
   "cell_type": "code",
   "execution_count": null,
   "metadata": {},
   "outputs": [],
   "source": [
    "remove_last_row()\n",
    "user_prefs"
   ]
  },
  {
   "cell_type": "code",
   "execution_count": null,
   "metadata": {},
   "outputs": [],
   "source": [
    "user_prefs"
   ]
  },
  {
   "cell_type": "code",
   "execution_count": null,
   "metadata": {},
   "outputs": [],
   "source": [
    "add_beer_to_list(2,1.7)\n",
    "add_beer_to_list(5,1.1)\n",
    "user_prefs"
   ]
  }
 ],
 "metadata": {
  "kernelspec": {
   "display_name": "Python 3",
   "language": "python",
   "name": "python3"
  },
  "varInspector": {
   "cols": {
    "lenName": 16,
    "lenType": 16,
    "lenVar": 40
   },
   "kernels_config": {
    "python": {
     "delete_cmd_postfix": "",
     "delete_cmd_prefix": "del ",
     "library": "var_list.py",
     "varRefreshCmd": "print(var_dic_list())"
    },
    "r": {
     "delete_cmd_postfix": ") ",
     "delete_cmd_prefix": "rm(",
     "library": "var_list.r",
     "varRefreshCmd": "cat(var_dic_list()) "
    }
   },
   "types_to_exclude": [
    "module",
    "function",
    "builtin_function_or_method",
    "instance",
    "_Feature"
   ],
   "window_display": false
  }
 },
 "nbformat": 4,
 "nbformat_minor": 2
}
