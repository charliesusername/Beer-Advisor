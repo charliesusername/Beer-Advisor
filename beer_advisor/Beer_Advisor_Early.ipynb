{
 "cells": [
  {
   "cell_type": "code",
   "execution_count": 202,
   "metadata": {},
   "outputs": [
    {
     "data": {
      "text/html": [
       "        <script type=\"text/javascript\">\n",
       "        window.PlotlyConfig = {MathJaxConfig: 'local'};\n",
       "        if (window.MathJax) {MathJax.Hub.Config({SVG: {font: \"STIX-Web\"}});}\n",
       "        if (typeof require !== 'undefined') {\n",
       "        require.undef(\"plotly\");\n",
       "        requirejs.config({\n",
       "            paths: {\n",
       "                'plotly': ['https://cdn.plot.ly/plotly-latest.min']\n",
       "            }\n",
       "        });\n",
       "        require(['plotly'], function(Plotly) {\n",
       "            window._Plotly = Plotly;\n",
       "        });\n",
       "        }\n",
       "        </script>\n",
       "        "
      ]
     },
     "metadata": {},
     "output_type": "display_data"
    }
   ],
   "source": [
    "import plotly.plotly\n",
    "import plotly.graph_objs as go\n",
    "from IPython.display import IFrame \n",
    "from plotly.offline import download_plotlyjs, init_notebook_mode, plot, iplot\n",
    "plotly.offline.init_notebook_mode(connected=True)\n",
    "import numpy as np\n",
    "import pandas as pd\n",
    "import datetime\n",
    "from plotly import tools"
   ]
  },
  {
   "cell_type": "code",
   "execution_count": 73,
   "metadata": {},
   "outputs": [],
   "source": [
    "# Retrieve datasets\n",
    "reviews = pd.read_csv('data/beer_ratings.csv').drop('Unnamed: 0',axis = 1).set_index('review_id')\n",
    "reviews.posted = pd.to_datetime(reviews.posted)\n",
    "beers = pd.read_csv('data/beer_info.csv').drop('Unnamed: 0',axis=1).set_index('beer_id')\n",
    "family_lookup = pd.read_csv('data/beer_family_lookup.csv').drop('idx',axis=1)\n",
    "beers = pd.merge(beers,family_lookup,on='beer_style')"
   ]
  },
  {
   "cell_type": "code",
   "execution_count": 254,
   "metadata": {},
   "outputs": [
    {
     "name": "stdout",
     "output_type": "stream",
     "text": [
      "This is the format of your plot grid:\n",
      "[ (1,1) x1,y1 ]\n",
      "[ (2,1) x2,y2 ]\n",
      "\n"
     ]
    },
    {
     "data": {
      "application/vnd.plotly.v1+json": {
       "config": {
        "linkText": "Export to plot.ly",
        "plotlyServerURL": "https://plot.ly",
        "showLink": false
       },
       "data": [
        {
         "name": "Bocks",
         "type": "box",
         "uid": "24f0ed6f-56c5-4ed6-9705-00ff877aa9fa",
         "xaxis": "x",
         "y": [
          0.45161290322580644,
          0.45806451612903226,
          0.3225806451612903,
          0.4,
          0.4967741935483871,
          0.2903225806451613,
          0.4774193548387097,
          0.49032258064516127,
          0.3419354838709677,
          0.4064516129032258
         ],
         "yaxis": "y"
        },
        {
         "name": "Bocks",
         "type": "box",
         "uid": "b4c2237e-17f9-4e3a-9402-5b5bb6cd131e",
         "xaxis": "x",
         "y": [
          3.868714285714285,
          4.223661971830986,
          3.827200000000001,
          3.675,
          3.9529870129870135,
          3.884666666666667,
          3.823918918918919,
          3.971973684210524,
          3.9990566037735853,
          3.824444444444443
         ],
         "yaxis": "y2"
        },
        {
         "name": "Brown Ales",
         "type": "box",
         "uid": "110d4446-8f01-4718-a2ef-0e88125f05d9",
         "xaxis": "x",
         "y": [
          0.34057971014492755,
          0.30434782608695654,
          0.3333333333333333,
          0.3079710144927536,
          0.42028985507246375,
          0.2898550724637681,
          0.42391304347826086,
          0.35507246376811596,
          0.34057971014492755,
          0.3333333333333333
         ],
         "yaxis": "y"
        },
        {
         "name": "Brown Ales",
         "type": "box",
         "uid": "a48514b7-e84b-4755-9455-833d46810bc4",
         "xaxis": "x",
         "y": [
          3.7706382978723405,
          4.027261904761904,
          3.839673913043478,
          3.6771764705882353,
          3.845344827586206,
          3.856250000000002,
          3.7425641025641045,
          3.878367346938777,
          3.8988297872340434,
          3.787065217391304
         ],
         "yaxis": "y2"
        },
        {
         "name": "Dark Ales",
         "type": "box",
         "uid": "6b51c48d-44cc-47fc-966c-f24c17f66b0c",
         "xaxis": "x",
         "y": [
          0.44947735191637633,
          0.32752613240418116,
          0.3902439024390244,
          0.43205574912891986,
          0.47038327526132406,
          0.27177700348432055,
          0.4355400696864111,
          0.4738675958188153,
          0.30662020905923343,
          0.3554006968641115
         ],
         "yaxis": "y"
        },
        {
         "name": "Dark Ales",
         "type": "box",
         "uid": "23587ab9-4a01-40fc-b014-cd2d66594b9c",
         "xaxis": "x",
         "y": [
          3.9000775193798445,
          4.1968085106382995,
          3.8560714285714295,
          3.7165322580645177,
          3.902370370370369,
          3.8035897435897428,
          3.7931200000000005,
          3.963529411764704,
          3.9214772727272735,
          3.914117647058825
         ],
         "yaxis": "y2"
        },
        {
         "name": "Dark Lagers",
         "type": "box",
         "uid": "1339b38d-a76d-4b57-84c4-c936c2bd7eb4",
         "xaxis": "x",
         "y": [
          0.4,
          0.384375,
          0.309375,
          0.303125,
          0.265625,
          0.2875,
          0.453125,
          0.359375,
          0.440625,
          0.365625
         ],
         "yaxis": "y"
        },
        {
         "name": "Dark Lagers",
         "type": "box",
         "uid": "7ec92b48-37dd-4c84-adec-508223d98f7f",
         "xaxis": "x",
         "y": [
          3.5360156249999983,
          3.942764227642276,
          3.615454545454545,
          3.5547422680412364,
          3.6603529411764724,
          3.6796739130434792,
          3.585793103448277,
          3.8585217391304347,
          3.787446808510638,
          3.5626495726495735
         ],
         "yaxis": "y2"
        },
        {
         "name": "Hybrid Beers",
         "type": "box",
         "uid": "f377234e-553e-40e3-8374-d4cb7c569497",
         "xaxis": "x",
         "y": [
          0.3815789473684211,
          0.5131578947368421,
          0.39473684210526316,
          0.4868421052631579,
          0.18421052631578946,
          0.21052631578947367,
          0.5921052631578947,
          0.3815789473684211,
          0.5921052631578947,
          0.47368421052631576
         ],
         "yaxis": "y"
        },
        {
         "name": "Hybrid Beers",
         "type": "box",
         "uid": "c4f87bf0-1d6f-4fe2-810e-76ff1ddba3a6",
         "xaxis": "x",
         "y": [
          3.1513793103448275,
          3.5841025641025634,
          3.1763333333333326,
          3.1224324324324315,
          3.1857142857142855,
          3.233125,
          3.0771111111111105,
          3.7500000000000004,
          3.4155555555555552,
          2.958333333333333
         ],
         "yaxis": "y2"
        },
        {
         "name": "India Pale Ales",
         "type": "box",
         "uid": "fcfd3797-c510-4f27-8223-a1d8188cd381",
         "xaxis": "x",
         "y": [
          0.29127459366980324,
          0.19931565440547477,
          0.36911890504704875,
          0.26561163387510695,
          0.34944396920444826,
          0.2797262617621899,
          0.3319076133447391,
          0.32677502138579984,
          0.2951240376390077,
          0.2566295979469632
         ],
         "yaxis": "y"
        },
        {
         "name": "India Pale Ales",
         "type": "box",
         "uid": "8f29663e-053a-471e-8649-2e618f40b480",
         "xaxis": "x",
         "y": [
          4.026270190895738,
          4.102339055793993,
          3.9504982618771685,
          3.8182769726247976,
          4.017111383108928,
          3.967737003058098,
          3.918402061855672,
          4.04692408376964,
          4.02073913043478,
          3.9740666666666553
         ],
         "yaxis": "y2"
        },
        {
         "name": "Pale Ales",
         "type": "box",
         "uid": "cd80e01c-aec9-4249-b879-80a49b66e87c",
         "xaxis": "x",
         "y": [
          0.34218653489808526,
          0.28227300802964794,
          0.4169240271772699,
          0.3298332303891291,
          0.34898085237801113,
          0.2705373687461396,
          0.3705991352686844,
          0.3248919085855466,
          0.2890673255095738,
          0.28536133415688697
         ],
         "yaxis": "y"
        },
        {
         "name": "Pale Ales",
         "type": "box",
         "uid": "092e5d7b-8950-4773-bcb8-34b2da9f7540",
         "xaxis": "x",
         "y": [
          3.8261010830324884,
          4.059190371991246,
          3.875555555555549,
          3.686910112359549,
          3.8890088495575195,
          3.8879680365296827,
          3.772883333333337,
          3.9522623574144484,
          3.882799145299146,
          3.7637229437229434
         ],
         "yaxis": "y2"
        },
        {
         "name": "Pilseners and Pale Lagers",
         "type": "box",
         "uid": "e5e01f35-363d-4059-a27c-72f6d8e2aac7",
         "xaxis": "x",
         "y": [
          0.3375706214689266,
          0.4505649717514124,
          0.3870056497175141,
          0.3192090395480226,
          0.24717514124293785,
          0.23163841807909605,
          0.4844632768361582,
          0.3714689265536723,
          0.5155367231638418,
          0.3813559322033898
         ],
         "yaxis": "y"
        },
        {
         "name": "Pilseners and Pale Lagers",
         "type": "box",
         "uid": "0a55282e-3703-4520-992b-769e432b2ad3",
         "xaxis": "x",
         "y": [
          3.2673640167364026,
          3.5581504702194358,
          3.4492335766423348,
          3.3698230088495573,
          3.7592571428571424,
          3.7110975609756114,
          3.371865889212828,
          3.7867300380228053,
          3.326575342465754,
          3.135703703703704
         ],
         "yaxis": "y2"
        },
        {
         "name": "Porters",
         "type": "box",
         "uid": "a70d9938-2ac1-4463-9895-0a470957e996",
         "xaxis": "x",
         "y": [
          0.3673469387755102,
          0.2562358276643991,
          0.3900226757369615,
          0.3287981859410431,
          0.4331065759637188,
          0.29705215419501135,
          0.3877551020408163,
          0.36281179138321995,
          0.24036281179138322,
          0.2698412698412698
         ],
         "yaxis": "y"
        },
        {
         "name": "Porters",
         "type": "box",
         "uid": "8f8e4f5e-6782-4e72-9909-e8a5101229d6",
         "xaxis": "x",
         "y": [
          3.8771604938271578,
          4.036017699115044,
          3.939360465116277,
          3.706689655172414,
          3.9054973821989507,
          3.9285496183206114,
          3.8525730994152023,
          3.9806874999999984,
          3.948207547169811,
          3.8240336134453767
         ],
         "yaxis": "y2"
        },
        {
         "name": "Specialty Beers",
         "type": "box",
         "uid": "f65b414b-6ec2-4f38-8b66-4b285ba5e2d8",
         "xaxis": "x",
         "y": [
          0.37524950099800397,
          0.34331337325349304,
          0.47704590818363274,
          0.4231536926147705,
          0.34331337325349304,
          0.2774451097804391,
          0.46107784431137727,
          0.4750499001996008,
          0.44510978043912175,
          0.3413173652694611
         ],
         "yaxis": "y"
        },
        {
         "name": "Specialty Beers",
         "type": "box",
         "uid": "e5056aac-e0c0-4fd4-8215-559f1cfeb9f1",
         "xaxis": "x",
         "y": [
          3.754148936170213,
          3.916046511627907,
          3.7859414225941426,
          3.607688679245283,
          3.7948255813953495,
          3.723956834532374,
          3.634458874458873,
          3.9189915966386546,
          3.7452017937219733,
          3.526140350877195
         ],
         "yaxis": "y2"
        }
       ],
       "layout": {
        "showlegend": false,
        "xaxis": {
         "anchor": "x",
         "linewidth": 2,
         "mirror": true,
         "title": {
          "text": "Beer Family"
         }
        },
        "yaxis": {
         "anchor": "y",
         "domain": [
          0,
          0.5
         ],
         "title": {
          "text": "Number of Reviews"
         }
        },
        "yaxis2": {
         "anchor": "y2",
         "domain": [
          0.5,
          1
         ],
         "title": {
          "text": "Ratings"
         }
        }
       }
      },
      "text/html": [
       "<div>\n",
       "        \n",
       "        \n",
       "            <div id=\"398cc7c7-ad09-4e8b-b1b7-0db22e56dc44\" class=\"plotly-graph-div\" style=\"height:525px; width:100%;\"></div>\n",
       "            <script type=\"text/javascript\">\n",
       "                require([\"plotly\"], function(Plotly) {\n",
       "                    window.PLOTLYENV=window.PLOTLYENV || {};\n",
       "                    window.PLOTLYENV.BASE_URL='https://plot.ly';\n",
       "                    \n",
       "                if (document.getElementById(\"398cc7c7-ad09-4e8b-b1b7-0db22e56dc44\")) {\n",
       "                    Plotly.newPlot(\n",
       "                        '398cc7c7-ad09-4e8b-b1b7-0db22e56dc44',\n",
       "                        [{\"name\": \"Bocks\", \"type\": \"box\", \"uid\": \"24f0ed6f-56c5-4ed6-9705-00ff877aa9fa\", \"xaxis\": \"x\", \"y\": [0.45161290322580644, 0.45806451612903226, 0.3225806451612903, 0.4, 0.4967741935483871, 0.2903225806451613, 0.4774193548387097, 0.49032258064516127, 0.3419354838709677, 0.4064516129032258], \"yaxis\": \"y\"}, {\"name\": \"Bocks\", \"type\": \"box\", \"uid\": \"b4c2237e-17f9-4e3a-9402-5b5bb6cd131e\", \"xaxis\": \"x\", \"y\": [3.868714285714285, 4.223661971830986, 3.827200000000001, 3.675, 3.9529870129870135, 3.884666666666667, 3.823918918918919, 3.971973684210524, 3.9990566037735853, 3.824444444444443], \"yaxis\": \"y2\"}, {\"name\": \"Brown Ales\", \"type\": \"box\", \"uid\": \"110d4446-8f01-4718-a2ef-0e88125f05d9\", \"xaxis\": \"x\", \"y\": [0.34057971014492755, 0.30434782608695654, 0.3333333333333333, 0.3079710144927536, 0.42028985507246375, 0.2898550724637681, 0.42391304347826086, 0.35507246376811596, 0.34057971014492755, 0.3333333333333333], \"yaxis\": \"y\"}, {\"name\": \"Brown Ales\", \"type\": \"box\", \"uid\": \"a48514b7-e84b-4755-9455-833d46810bc4\", \"xaxis\": \"x\", \"y\": [3.7706382978723405, 4.027261904761904, 3.839673913043478, 3.6771764705882353, 3.845344827586206, 3.856250000000002, 3.7425641025641045, 3.878367346938777, 3.8988297872340434, 3.787065217391304], \"yaxis\": \"y2\"}, {\"name\": \"Dark Ales\", \"type\": \"box\", \"uid\": \"6b51c48d-44cc-47fc-966c-f24c17f66b0c\", \"xaxis\": \"x\", \"y\": [0.44947735191637633, 0.32752613240418116, 0.3902439024390244, 0.43205574912891986, 0.47038327526132406, 0.27177700348432055, 0.4355400696864111, 0.4738675958188153, 0.30662020905923343, 0.3554006968641115], \"yaxis\": \"y\"}, {\"name\": \"Dark Ales\", \"type\": \"box\", \"uid\": \"23587ab9-4a01-40fc-b014-cd2d66594b9c\", \"xaxis\": \"x\", \"y\": [3.9000775193798445, 4.1968085106382995, 3.8560714285714295, 3.7165322580645177, 3.902370370370369, 3.8035897435897428, 3.7931200000000005, 3.963529411764704, 3.9214772727272735, 3.914117647058825], \"yaxis\": \"y2\"}, {\"name\": \"Dark Lagers\", \"type\": \"box\", \"uid\": \"1339b38d-a76d-4b57-84c4-c936c2bd7eb4\", \"xaxis\": \"x\", \"y\": [0.4, 0.384375, 0.309375, 0.303125, 0.265625, 0.2875, 0.453125, 0.359375, 0.440625, 0.365625], \"yaxis\": \"y\"}, {\"name\": \"Dark Lagers\", \"type\": \"box\", \"uid\": \"7ec92b48-37dd-4c84-adec-508223d98f7f\", \"xaxis\": \"x\", \"y\": [3.5360156249999983, 3.942764227642276, 3.615454545454545, 3.5547422680412364, 3.6603529411764724, 3.6796739130434792, 3.585793103448277, 3.8585217391304347, 3.787446808510638, 3.5626495726495735], \"yaxis\": \"y2\"}, {\"name\": \"Hybrid Beers\", \"type\": \"box\", \"uid\": \"f377234e-553e-40e3-8374-d4cb7c569497\", \"xaxis\": \"x\", \"y\": [0.3815789473684211, 0.5131578947368421, 0.39473684210526316, 0.4868421052631579, 0.18421052631578946, 0.21052631578947367, 0.5921052631578947, 0.3815789473684211, 0.5921052631578947, 0.47368421052631576], \"yaxis\": \"y\"}, {\"name\": \"Hybrid Beers\", \"type\": \"box\", \"uid\": \"c4f87bf0-1d6f-4fe2-810e-76ff1ddba3a6\", \"xaxis\": \"x\", \"y\": [3.1513793103448275, 3.5841025641025634, 3.1763333333333326, 3.1224324324324315, 3.1857142857142855, 3.233125, 3.0771111111111105, 3.7500000000000004, 3.4155555555555552, 2.958333333333333], \"yaxis\": \"y2\"}, {\"name\": \"India Pale Ales\", \"type\": \"box\", \"uid\": \"fcfd3797-c510-4f27-8223-a1d8188cd381\", \"xaxis\": \"x\", \"y\": [0.29127459366980324, 0.19931565440547477, 0.36911890504704875, 0.26561163387510695, 0.34944396920444826, 0.2797262617621899, 0.3319076133447391, 0.32677502138579984, 0.2951240376390077, 0.2566295979469632], \"yaxis\": \"y\"}, {\"name\": \"India Pale Ales\", \"type\": \"box\", \"uid\": \"8f29663e-053a-471e-8649-2e618f40b480\", \"xaxis\": \"x\", \"y\": [4.026270190895738, 4.102339055793993, 3.9504982618771685, 3.8182769726247976, 4.017111383108928, 3.967737003058098, 3.918402061855672, 4.04692408376964, 4.02073913043478, 3.9740666666666553], \"yaxis\": \"y2\"}, {\"name\": \"Pale Ales\", \"type\": \"box\", \"uid\": \"cd80e01c-aec9-4249-b879-80a49b66e87c\", \"xaxis\": \"x\", \"y\": [0.34218653489808526, 0.28227300802964794, 0.4169240271772699, 0.3298332303891291, 0.34898085237801113, 0.2705373687461396, 0.3705991352686844, 0.3248919085855466, 0.2890673255095738, 0.28536133415688697], \"yaxis\": \"y\"}, {\"name\": \"Pale Ales\", \"type\": \"box\", \"uid\": \"092e5d7b-8950-4773-bcb8-34b2da9f7540\", \"xaxis\": \"x\", \"y\": [3.8261010830324884, 4.059190371991246, 3.875555555555549, 3.686910112359549, 3.8890088495575195, 3.8879680365296827, 3.772883333333337, 3.9522623574144484, 3.882799145299146, 3.7637229437229434], \"yaxis\": \"y2\"}, {\"name\": \"Pilseners and Pale Lagers\", \"type\": \"box\", \"uid\": \"e5e01f35-363d-4059-a27c-72f6d8e2aac7\", \"xaxis\": \"x\", \"y\": [0.3375706214689266, 0.4505649717514124, 0.3870056497175141, 0.3192090395480226, 0.24717514124293785, 0.23163841807909605, 0.4844632768361582, 0.3714689265536723, 0.5155367231638418, 0.3813559322033898], \"yaxis\": \"y\"}, {\"name\": \"Pilseners and Pale Lagers\", \"type\": \"box\", \"uid\": \"0a55282e-3703-4520-992b-769e432b2ad3\", \"xaxis\": \"x\", \"y\": [3.2673640167364026, 3.5581504702194358, 3.4492335766423348, 3.3698230088495573, 3.7592571428571424, 3.7110975609756114, 3.371865889212828, 3.7867300380228053, 3.326575342465754, 3.135703703703704], \"yaxis\": \"y2\"}, {\"name\": \"Porters\", \"type\": \"box\", \"uid\": \"a70d9938-2ac1-4463-9895-0a470957e996\", \"xaxis\": \"x\", \"y\": [0.3673469387755102, 0.2562358276643991, 0.3900226757369615, 0.3287981859410431, 0.4331065759637188, 0.29705215419501135, 0.3877551020408163, 0.36281179138321995, 0.24036281179138322, 0.2698412698412698], \"yaxis\": \"y\"}, {\"name\": \"Porters\", \"type\": \"box\", \"uid\": \"8f8e4f5e-6782-4e72-9909-e8a5101229d6\", \"xaxis\": \"x\", \"y\": [3.8771604938271578, 4.036017699115044, 3.939360465116277, 3.706689655172414, 3.9054973821989507, 3.9285496183206114, 3.8525730994152023, 3.9806874999999984, 3.948207547169811, 3.8240336134453767], \"yaxis\": \"y2\"}, {\"name\": \"Specialty Beers\", \"type\": \"box\", \"uid\": \"f65b414b-6ec2-4f38-8b66-4b285ba5e2d8\", \"xaxis\": \"x\", \"y\": [0.37524950099800397, 0.34331337325349304, 0.47704590818363274, 0.4231536926147705, 0.34331337325349304, 0.2774451097804391, 0.46107784431137727, 0.4750499001996008, 0.44510978043912175, 0.3413173652694611], \"yaxis\": \"y\"}, {\"name\": \"Specialty Beers\", \"type\": \"box\", \"uid\": \"e5056aac-e0c0-4fd4-8215-559f1cfeb9f1\", \"xaxis\": \"x\", \"y\": [3.754148936170213, 3.916046511627907, 3.7859414225941426, 3.607688679245283, 3.7948255813953495, 3.723956834532374, 3.634458874458873, 3.9189915966386546, 3.7452017937219733, 3.526140350877195], \"yaxis\": \"y2\"}],\n",
       "                        {\"showlegend\": false, \"xaxis\": {\"anchor\": \"x\", \"linewidth\": 2, \"mirror\": true, \"title\": {\"text\": \"Beer Family\"}}, \"yaxis\": {\"anchor\": \"y\", \"domain\": [0, 0.5], \"title\": {\"text\": \"Number of Reviews\"}}, \"yaxis2\": {\"anchor\": \"y2\", \"domain\": [0.5, 1], \"title\": {\"text\": \"Ratings\"}}},\n",
       "                        {\"showLink\": false, \"linkText\": \"Export to plot.ly\", \"plotlyServerURL\": \"https://plot.ly\", \"responsive\": true}\n",
       "                    ).then(function(){\n",
       "                            \n",
       "var gd = document.getElementById('398cc7c7-ad09-4e8b-b1b7-0db22e56dc44');\n",
       "var x = new MutationObserver(function (mutations, observer) {{\n",
       "        var display = window.getComputedStyle(gd).display;\n",
       "        if (!display || display === 'none') {{\n",
       "            console.log([gd, 'removed!']);\n",
       "            Plotly.purge(gd);\n",
       "            observer.disconnect();\n",
       "        }}\n",
       "}});\n",
       "\n",
       "// Listen for the removal of the full notebook cells\n",
       "var notebookContainer = gd.closest('#notebook-container');\n",
       "if (notebookContainer) {{\n",
       "    x.observe(notebookContainer, {childList: true});\n",
       "}}\n",
       "\n",
       "// Listen for the clearing of the current output cell\n",
       "var outputEl = gd.closest('.output');\n",
       "if (outputEl) {{\n",
       "    x.observe(outputEl, {childList: true});\n",
       "}}\n",
       "\n",
       "                        })\n",
       "                };\n",
       "                });\n",
       "            </script>\n",
       "        </div>"
      ]
     },
     "metadata": {},
     "output_type": "display_data"
    }
   ],
   "source": [
    "### Show boxplots of the percentage of beers rated in each family by the top 10 reviewers\n",
    "def boxplot_family():\n",
    "    top10 = reviews.groupby('username').agg('count').sort_values('posted',ascending=False).index[:10].values\n",
    "    df = reviews[reviews.username.isin(top10)].join(beers[['family','BAscore']],on='beer_id',how='left')\n",
    "    df = df.groupby(by=['family','username']).agg({'posted':'count','score':'mean'})\n",
    "    families = df.reset_index().family.unique()    \n",
    "    data = []\n",
    "    fig = tools.make_subplots(rows=2, cols=1)\n",
    "    i=0\n",
    "    for family in families[:10]:\n",
    "        num_beers = len(beers.reset_index()[beers.family == family].index.values)\n",
    "        trace1 = go.Box(\n",
    "            y=df.loc[family]['posted'] / num_beers,\n",
    "            name=family,\n",
    "            xaxis='x1',\n",
    "            yaxis='y1'\n",
    "            \n",
    "        )\n",
    "        trace2 = go.Box(\n",
    "            y=df.loc[family]['score'],\n",
    "            name=family,\n",
    "            xaxis='x1',\n",
    "            yaxis='y2'\n",
    "        )\n",
    "        data.append(trace1)\n",
    "        data.append(trace2)\n",
    "        i=i+1\n",
    "            \n",
    "    layout = go.Layout(\n",
    "        xaxis = dict(            \n",
    "            anchor='x1',\n",
    "            title='Beer Family',\n",
    "            linewidth = 2,\n",
    "            mirror = True\n",
    "        ),\n",
    "        yaxis1 = dict(\n",
    "            domain=[0, 0.5],\n",
    "            anchor='y1',\n",
    "            title = 'Number of Reviews'\n",
    "        ),\n",
    "        \n",
    "        yaxis2 = dict(\n",
    "            domain=[0.5, 1],\n",
    "            anchor='y2',\n",
    "            title = 'Ratings'\n",
    "        ),\n",
    "        showlegend = False\n",
    "        \n",
    "    )\n",
    "    fig = go.Figure(data=data,layout=layout)\n",
    "    \n",
    "    return plotly.offline.iplot(fig)\n",
    "boxplot_family()"
   ]
  },
  {
   "cell_type": "code",
   "execution_count": 194,
   "metadata": {},
   "outputs": [
    {
     "data": {
      "text/plain": [
       "username\n",
       "BEERchitect      0.291275\n",
       "NeroFiddled      0.199316\n",
       "StonedTrippin    0.369119\n",
       "UCLABrewN84      0.265612\n",
       "brentk56         0.349444\n",
       "jlindros         0.279726\n",
       "metter98         0.331908\n",
       "superspak        0.326775\n",
       "woodychandler    0.295124\n",
       "zeff80           0.256630\n",
       "Name: posted, dtype: float64"
      ]
     },
     "execution_count": 194,
     "metadata": {},
     "output_type": "execute_result"
    }
   ],
   "source": [
    "df.loc['India Pale Ales']['posted'] / len(beers.reset_index()[beers.family == 'India Pale Ales'].index.values)"
   ]
  },
  {
   "cell_type": "code",
   "execution_count": 248,
   "metadata": {},
   "outputs": [
    {
     "data": {
      "text/plain": [
       "array([ 1. ,  4.8,  8.6, 12.4, 16.2, 20. , 23.8, 27.6, 31.4, 35.2, 39. ])"
      ]
     },
     "execution_count": 248,
     "metadata": {},
     "output_type": "execute_result"
    }
   ],
   "source": [
    "np.linspace(1,39,11)"
   ]
  },
  {
   "cell_type": "code",
   "execution_count": 200,
   "metadata": {},
   "outputs": [
    {
     "data": {
      "text/plain": [
       "array(['Bocks', 'Brown Ales', 'Dark Ales', 'Dark Lagers', 'Hybrid Beers',\n",
       "       'India Pale Ales', 'Pale Ales', 'Pilseners and Pale Lagers',\n",
       "       'Porters', 'Specialty Beers', 'Stouts', 'Strong Ales',\n",
       "       'Wheat Beers', 'Wild/Sour Beers'], dtype=object)"
      ]
     },
     "execution_count": 200,
     "metadata": {},
     "output_type": "execute_result"
    }
   ],
   "source": [
    "styles"
   ]
  },
  {
   "cell_type": "code",
   "execution_count": null,
   "metadata": {},
   "outputs": [],
   "source": []
  },
  {
   "cell_type": "code",
   "execution_count": 10,
   "metadata": {},
   "outputs": [
    {
     "data": {
      "text/html": [
       "<div>\n",
       "<style scoped>\n",
       "    .dataframe tbody tr th:only-of-type {\n",
       "        vertical-align: middle;\n",
       "    }\n",
       "\n",
       "    .dataframe tbody tr th {\n",
       "        vertical-align: top;\n",
       "    }\n",
       "\n",
       "    .dataframe thead th {\n",
       "        text-align: right;\n",
       "    }\n",
       "</style>\n",
       "<table border=\"1\" class=\"dataframe\">\n",
       "  <thead>\n",
       "    <tr style=\"text-align: right;\">\n",
       "      <th></th>\n",
       "      <th>BAscore</th>\n",
       "      <th>abv</th>\n",
       "      <th>beer_img</th>\n",
       "      <th>beer_name</th>\n",
       "      <th>beer_style</th>\n",
       "      <th>brewery</th>\n",
       "      <th>desc</th>\n",
       "      <th>num_reviews</th>\n",
       "      <th>ranking</th>\n",
       "    </tr>\n",
       "    <tr>\n",
       "      <th>beer_id</th>\n",
       "      <th></th>\n",
       "      <th></th>\n",
       "      <th></th>\n",
       "      <th></th>\n",
       "      <th></th>\n",
       "      <th></th>\n",
       "      <th></th>\n",
       "      <th></th>\n",
       "      <th></th>\n",
       "    </tr>\n",
       "  </thead>\n",
       "  <tbody>\n",
       "    <tr>\n",
       "      <th>1</th>\n",
       "      <td>4.35</td>\n",
       "      <td>7.0</td>\n",
       "      <td>https://cdn.beeradvocate.com/im/beers/141544.jpg</td>\n",
       "      <td>Yakima Fresh Hop</td>\n",
       "      <td>American IPA</td>\n",
       "      <td>Columbus Brewing Company</td>\n",
       "      <td>None provided.</td>\n",
       "      <td>29</td>\n",
       "      <td>1033</td>\n",
       "    </tr>\n",
       "    <tr>\n",
       "      <th>2</th>\n",
       "      <td>3.59</td>\n",
       "      <td>7.0</td>\n",
       "      <td>https://cdn.beeradvocate.com/im/beers/94770.jpg</td>\n",
       "      <td>Red Clay IPA</td>\n",
       "      <td>American IPA</td>\n",
       "      <td>Sunken City Brewing Company</td>\n",
       "      <td>None provided.</td>\n",
       "      <td>24</td>\n",
       "      <td>38065</td>\n",
       "    </tr>\n",
       "  </tbody>\n",
       "</table>\n",
       "</div>"
      ],
      "text/plain": [
       "         BAscore  abv                                          beer_img  \\\n",
       "beer_id                                                                   \n",
       "1           4.35  7.0  https://cdn.beeradvocate.com/im/beers/141544.jpg   \n",
       "2           3.59  7.0   https://cdn.beeradvocate.com/im/beers/94770.jpg   \n",
       "\n",
       "                beer_name    beer_style                      brewery  \\\n",
       "beer_id                                                                \n",
       "1        Yakima Fresh Hop  American IPA     Columbus Brewing Company   \n",
       "2            Red Clay IPA  American IPA  Sunken City Brewing Company   \n",
       "\n",
       "                   desc  num_reviews ranking  \n",
       "beer_id                                       \n",
       "1        None provided.           29    1033  \n",
       "2        None provided.           24   38065  "
      ]
     },
     "execution_count": 10,
     "metadata": {},
     "output_type": "execute_result"
    }
   ],
   "source": [
    "beers.head(2)"
   ]
  },
  {
   "cell_type": "code",
   "execution_count": null,
   "metadata": {},
   "outputs": [],
   "source": []
  },
  {
   "cell_type": "code",
   "execution_count": 1,
   "metadata": {},
   "outputs": [
    {
     "ename": "NameError",
     "evalue": "name 'reviews' is not defined",
     "output_type": "error",
     "traceback": [
      "\u001b[1;31m---------------------------------------------------------------------------\u001b[0m",
      "\u001b[1;31mNameError\u001b[0m                                 Traceback (most recent call last)",
      "\u001b[1;32m<ipython-input-1-74144aaa33d3>\u001b[0m in \u001b[0;36m<module>\u001b[1;34m\u001b[0m\n\u001b[0;32m      1\u001b[0m \u001b[1;31m## Plot counts per day\u001b[0m\u001b[1;33m\u001b[0m\u001b[1;33m\u001b[0m\u001b[1;33m\u001b[0m\u001b[0m\n\u001b[1;32m----> 2\u001b[1;33m \u001b[0mts\u001b[0m \u001b[1;33m=\u001b[0m \u001b[0mreviews\u001b[0m\u001b[1;33m.\u001b[0m\u001b[0mreset_index\u001b[0m\u001b[1;33m(\u001b[0m\u001b[1;33m)\u001b[0m\u001b[1;33m.\u001b[0m\u001b[0mposted\u001b[0m\u001b[1;33m.\u001b[0m\u001b[0mvalue_counts\u001b[0m\u001b[1;33m(\u001b[0m\u001b[1;33m)\u001b[0m\u001b[1;33m.\u001b[0m\u001b[0mindex\u001b[0m\u001b[1;33m\u001b[0m\u001b[1;33m\u001b[0m\u001b[0m\n\u001b[0m\u001b[0;32m      3\u001b[0m \u001b[0mcts\u001b[0m \u001b[1;33m=\u001b[0m \u001b[0mreviews\u001b[0m\u001b[1;33m.\u001b[0m\u001b[0mreset_index\u001b[0m\u001b[1;33m(\u001b[0m\u001b[1;33m)\u001b[0m\u001b[1;33m.\u001b[0m\u001b[0mposted\u001b[0m\u001b[1;33m.\u001b[0m\u001b[0mvalue_counts\u001b[0m\u001b[1;33m(\u001b[0m\u001b[1;33m)\u001b[0m\u001b[1;33m.\u001b[0m\u001b[0mvalues\u001b[0m\u001b[1;33m\u001b[0m\u001b[1;33m\u001b[0m\u001b[0m\n\u001b[0;32m      4\u001b[0m trace = go.Scatter(\n\u001b[0;32m      5\u001b[0m     \u001b[0mx\u001b[0m \u001b[1;33m=\u001b[0m \u001b[0mts\u001b[0m\u001b[1;33m,\u001b[0m\u001b[1;33m\u001b[0m\u001b[1;33m\u001b[0m\u001b[0m\n",
      "\u001b[1;31mNameError\u001b[0m: name 'reviews' is not defined"
     ]
    }
   ],
   "source": [
    "## Plot counts per day\n",
    "ts = reviews.reset_index().posted.value_counts().index\n",
    "cts = reviews.reset_index().posted.value_counts().values\n",
    "trace = go.Scatter(\n",
    "    x = ts,\n",
    "    y = cts,\n",
    "    mode = 'markers'\n",
    ")\n",
    "review_counts_by_time = [trace]\n",
    "\n",
    "layout = dict(title = 'Frequency of Reviews',\n",
    "              yaxis = dict(\n",
    "                  title = 'Count'),\n",
    "              xaxis = dict(\n",
    "                  title = 'Date'\n",
    "              )\n",
    "             )\n",
    "fig = dict(data = review_counts_by_time, layout = layout)"
   ]
  },
  {
   "cell_type": "code",
   "execution_count": 59,
   "metadata": {},
   "outputs": [
    {
     "data": {
      "text/html": [
       "<div>\n",
       "<style scoped>\n",
       "    .dataframe tbody tr th:only-of-type {\n",
       "        vertical-align: middle;\n",
       "    }\n",
       "\n",
       "    .dataframe tbody tr th {\n",
       "        vertical-align: top;\n",
       "    }\n",
       "\n",
       "    .dataframe thead th {\n",
       "        text-align: right;\n",
       "    }\n",
       "</style>\n",
       "<table border=\"1\" class=\"dataframe\">\n",
       "  <thead>\n",
       "    <tr style=\"text-align: right;\">\n",
       "      <th></th>\n",
       "      <th>beer_id</th>\n",
       "      <th>posted</th>\n",
       "      <th>ratings</th>\n",
       "      <th>score</th>\n",
       "      <th>username</th>\n",
       "    </tr>\n",
       "    <tr>\n",
       "      <th>review_id</th>\n",
       "      <th></th>\n",
       "      <th></th>\n",
       "      <th></th>\n",
       "      <th></th>\n",
       "      <th></th>\n",
       "    </tr>\n",
       "  </thead>\n",
       "  <tbody>\n",
       "    <tr>\n",
       "      <th>1</th>\n",
       "      <td>1</td>\n",
       "      <td>2014-11-07</td>\n",
       "      <td>['']</td>\n",
       "      <td>4.40</td>\n",
       "      <td>Swettenham_Shire</td>\n",
       "    </tr>\n",
       "    <tr>\n",
       "      <th>2</th>\n",
       "      <td>1</td>\n",
       "      <td>2018-11-08</td>\n",
       "      <td>[3.75, 3.25, 4.5, 4.25, 4.25]</td>\n",
       "      <td>4.08</td>\n",
       "      <td>KurtisCarman</td>\n",
       "    </tr>\n",
       "    <tr>\n",
       "      <th>3</th>\n",
       "      <td>1</td>\n",
       "      <td>2018-10-24</td>\n",
       "      <td>[4.0, 4.75, 4.5, 4.5, 4.5]</td>\n",
       "      <td>4.53</td>\n",
       "      <td>ChilliHeights</td>\n",
       "    </tr>\n",
       "  </tbody>\n",
       "</table>\n",
       "</div>"
      ],
      "text/plain": [
       "           beer_id     posted                        ratings  score  \\\n",
       "review_id                                                             \n",
       "1                1 2014-11-07                           ['']   4.40   \n",
       "2                1 2018-11-08  [3.75, 3.25, 4.5, 4.25, 4.25]   4.08   \n",
       "3                1 2018-10-24     [4.0, 4.75, 4.5, 4.5, 4.5]   4.53   \n",
       "\n",
       "                   username  \n",
       "review_id                    \n",
       "1          Swettenham_Shire  \n",
       "2              KurtisCarman  \n",
       "3             ChilliHeights  "
      ]
     },
     "execution_count": 59,
     "metadata": {},
     "output_type": "execute_result"
    }
   ],
   "source": [
    "reviews.head(3)"
   ]
  },
  {
   "cell_type": "code",
   "execution_count": 6,
   "metadata": {},
   "outputs": [],
   "source": [
    "df = pd.DataFrame({'nr':beers.num_reviews,'ba':beers.BAscore}).sort_values('nr')\n",
    "x = df.nr.values\n",
    "y = df.ba.values\n",
    "\n",
    "# calculate polynomial\n",
    "z = np.polyfit(x, y, 3)\n",
    "f = np.poly1d(z)\n",
    "f_text = ' + '.join(['{:0.3e}X^{}'.format(f[x],x) for x in range(len(f)+1)])\n",
    "\n",
    "\n",
    "# calculate new x's and y's\n",
    "x_fit = np.linspace(x[0], x[-1], 50)\n",
    "y_fit = f(x_fit)\n",
    "\n",
    "trace1 = go.Scatter(\n",
    "                  x=x,\n",
    "                  y=y,\n",
    "                  mode='markers',\n",
    "                  marker=go.scatter.Marker(color='rgb(255, 127, 14)'),\n",
    "                  name='Data'\n",
    "                  )\n",
    "trace2 = go.Scatter(\n",
    "                  x=x_fit,\n",
    "                  y=y_fit,\n",
    "                  mode='lines',\n",
    "                  marker=go.scatter.Marker(color='rgb(31, 119, 180)'),\n",
    "                  name='Fit',\n",
    "                  text ='3d-PolyFit:{}'.format(f_text),\n",
    "                  textposition = 'bottom center',\n",
    "                  textfont=dict(\n",
    "                          family='sans serif',\n",
    "                          size=18,\n",
    "                          color='#ff7f0e'\n",
    "                          )\n",
    "                  )\n",
    "\n",
    "layout = go.Layout(\n",
    "                title='Number of Reviews v. Beer Advocate Score',\n",
    "                plot_bgcolor='rgb(229, 229, 229)',\n",
    "                xaxis = dict(\n",
    "                    zerolinecolor='rgb(255,255,255)', \n",
    "                    gridcolor='rgb(255,255,255)'\n",
    "                ),\n",
    "                yaxis= dict(\n",
    "                    zerolinecolor='rgb(255,255,255)', \n",
    "                    gridcolor='rgb(255,255,255)'\n",
    "                ),\n",
    "                showlegend=False\n",
    "                )\n",
    "\n",
    "\n",
    "data=[trace1,trace2]\n",
    "fig = go.Figure(data=data,layout=layout)\n",
    "#plotly.offline.iplot(fig)"
   ]
  },
  {
   "cell_type": "code",
   "execution_count": 55,
   "metadata": {},
   "outputs": [],
   "source": [
    "from IPython.display import display"
   ]
  },
  {
   "cell_type": "code",
   "execution_count": 56,
   "metadata": {},
   "outputs": [
    {
     "data": {
      "application/vnd.jupyter.widget-view+json": {
       "model_id": "534a4aa2fdfe493a9d942eea892bd9d8",
       "version_major": 2,
       "version_minor": 0
      },
      "text/plain": [
       "IntSlider(value=0)"
      ]
     },
     "metadata": {},
     "output_type": "display_data"
    }
   ],
   "source": [
    "def f(x):\n",
    "    return x\n",
    "w = widgets.IntSlider(f, (min=1.0, max =5.0))\n",
    "display(w)\n",
    "\n"
   ]
  },
  {
   "cell_type": "code",
   "execution_count": 57,
   "metadata": {},
   "outputs": [
    {
     "data": {
      "text/plain": [
       "28"
      ]
     },
     "execution_count": 57,
     "metadata": {},
     "output_type": "execute_result"
    }
   ],
   "source": [
    "w.value"
   ]
  },
  {
   "cell_type": "code",
   "execution_count": null,
   "metadata": {},
   "outputs": [],
   "source": []
  }
 ],
 "metadata": {
  "kernelspec": {
   "display_name": "Python 3",
   "language": "python",
   "name": "python3"
  },
  "language_info": {
   "codemirror_mode": {
    "name": "ipython",
    "version": 3
   },
   "file_extension": ".py",
   "mimetype": "text/x-python",
   "name": "python",
   "nbconvert_exporter": "python",
   "pygments_lexer": "ipython3",
   "version": "3.7.3"
  },
  "varInspector": {
   "cols": {
    "lenName": 16,
    "lenType": 16,
    "lenVar": 40
   },
   "kernels_config": {
    "python": {
     "delete_cmd_postfix": "",
     "delete_cmd_prefix": "del ",
     "library": "var_list.py",
     "varRefreshCmd": "print(var_dic_list())"
    },
    "r": {
     "delete_cmd_postfix": ") ",
     "delete_cmd_prefix": "rm(",
     "library": "var_list.r",
     "varRefreshCmd": "cat(var_dic_list()) "
    }
   },
   "oldHeight": 648.85,
   "position": {
    "height": "40px",
    "left": "1489px",
    "right": "20px",
    "top": "141px",
    "width": "372px"
   },
   "types_to_exclude": [
    "module",
    "function",
    "builtin_function_or_method",
    "instance",
    "_Feature"
   ],
   "varInspector_section_display": "none",
   "window_display": true
  }
 },
 "nbformat": 4,
 "nbformat_minor": 2
}
