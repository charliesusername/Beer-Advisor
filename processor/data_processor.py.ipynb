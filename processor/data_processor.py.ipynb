{
 "cells": [
  {
   "cell_type": "code",
   "execution_count": 1,
   "metadata": {},
   "outputs": [
    {
     "name": "stderr",
     "output_type": "stream",
     "text": [
      "C:\\ProgramData\\Anaconda3\\lib\\site-packages\\past\\types\\oldstr.py:33: DeprecationWarning: invalid escape sequence \\d\n",
      "  \"\"\"\n"
     ]
    }
   ],
   "source": [
    "#Custom Functions and Imports\n",
    "from helper import *"
   ]
  },
  {
   "cell_type": "code",
   "execution_count": 2,
   "metadata": {},
   "outputs": [],
   "source": [
    "# Read csv files and clean ratings and date columns\n",
    "beers = pd.read_csv('../data/beer_info.csv')\n",
    "reviews = pd.read_csv('../data/beer_reviews.csv')\n",
    "beers.set_index('beer_id',inplace=True)\n",
    "reviews.set_index('review_id',inplace=True)\n",
    "reviews.ratings = clean_ratings(reviews.ratings)\n",
    "reviews.posted = clean_dates(reviews.posted)"
   ]
  },
  {
   "cell_type": "code",
   "execution_count": null,
   "metadata": {},
   "outputs": [],
   "source": [
    "# Clean text data\n",
    "rev_text = reviews.text\n",
    "rev_text = rev_text.apply(lambda x: re.sub('[^\\w\\s]',' ',str(x).lower())).apply(lambda x: re.sub('\\s+',' ',x))\n",
    "rev_text = rev_text.apply(lambda x: x.strip())"
   ]
  },
  {
   "cell_type": "code",
   "execution_count": 7,
   "metadata": {},
   "outputs": [
    {
     "data": {
      "text/plain": [
       "pandas.core.frame.DataFrame"
      ]
     },
     "execution_count": 7,
     "metadata": {},
     "output_type": "execute_result"
    }
   ],
   "source": [
    "reviews[['text']].to_csv()"
   ]
  },
  {
   "cell_type": "code",
   "execution_count": null,
   "metadata": {},
   "outputs": [],
   "source": []
  },
  {
   "cell_type": "code",
   "execution_count": null,
   "metadata": {},
   "outputs": [],
   "source": [
    "reviews.groupby('username').agg({'username':'count'}).sort_values(by='username')"
   ]
  },
  {
   "cell_type": "code",
   "execution_count": 5,
   "metadata": {},
   "outputs": [],
   "source": [
    "def user_item_review_matrix(beers_):\n",
    "    '''Generates a user_item_review matrix provided a list of beers.'''\n",
    "    '''Used in collaborative filtering'''\n",
    "    beer_tdf = (\n",
    "        beers[['beer_name','beer_style',]]\n",
    "        [beers.index.isin(beers_)]\n",
    "    )\n",
    "    return (        \n",
    "        reviews[reviews.beer_id.isin(beer_tdf.index)]\n",
    "        .merge(beer_tdf,how='left',on='beer_id')\n",
    "        [['username','score','beer_id','posted']]\n",
    "        .drop_duplicates(subset=['beer_id','username'],keep='first')\n",
    "        .pivot(index='username',columns='beer_id',values='score')\n",
    "    )\n",
    "from scipy.stats.stats import pearsonr\n",
    "def corr(X, Y):\n",
    "    r = np.corrcoef(X,Y)[0,1]\n",
    "    f = 0.5 * np.log((1+r)/(1-r))\n",
    "    se=1/np.sqrt(len(X)-3)\n",
    "    ucl=f+2*se\n",
    "    lcl=f-2*se\n",
    "    lcl=(np.exp(2*lcl)-1) / (np.exp(2*lcl)+1)\n",
    "    ucl=(np.exp(2*ucl)-1) / (np.exp(2*ucl)+1)\n",
    "    return r,lcl,ucl\n",
    "\n",
    "def generate_recommendations(list_,scores_):\n",
    "    '''Takes a list of beer_ids and personal scores, and generates a list of beer_ids to try.\n",
    "    Uses Pearson Coefficient Method '''\n",
    "    # Create a DataFrame to store users products and ratings\n",
    "    user_reviews = (\n",
    "        pd.DataFrame({'username':'user','score':scores_,'beer_id':list_})\n",
    "        .pivot(index='username',columns='beer_id',values='score')        \n",
    "    )\n",
    "    \n",
    "    #Generate a User-Item-Review matrix\n",
    "    uirm = user_item_review_matrix(list(user_reviews.columns))\n",
    "    uirm_df = pd.concat([user_reviews, uirm])\n",
    "    \n",
    "    \n",
    "    # Calculate the Pearson Correlation to user ratings\n",
    "    rankings = {'user':[],'corr':[],'pairs':[]}    \n",
    "    for i in range(1,len(uirm_df)):\n",
    "        new_df = uirm_df.iloc[[0,i],:]\n",
    "        new_df = new_df.dropna(axis=1, how='any')    \n",
    "        if new_df.shape[1] >= 2:\n",
    "            val = list(new_df.values)\n",
    "            corr(val[0],val[1])[0]            \n",
    "            rankings['user'].append(new_df.index[1])\n",
    "            rankings['corr'].append(corr(val[0],val[1])[0])\n",
    "            rankings['pairs'].append(new_df.shape[1])    \n",
    "    ranking_df = pd.DataFrame(rankings)\n",
    "    ranking_df.set_index('user',inplace=True)   \n",
    "    \n",
    "    recommender = (\n",
    "        pd.merge(ranking_df,uirm,how='left',left_index=True,right_index=True)\n",
    "        .dropna(axis=1,how='all')\n",
    "    )\n",
    "\n",
    "    similar_beers = (\n",
    "        reviews[reviews['username'].isin(list(recommender.index))]\n",
    "        .merge(beers,how='left',on='beer_id')\n",
    "        [['username','score','beer_name','beer_id']]    \n",
    "        .drop_duplicates(subset=['beer_id','username'],keep='first')\n",
    "        .pivot(index='username',columns='beer_id',values='score')\n",
    "    )\n",
    "   \n",
    "    try_these = pd.concat([recommender,similar_beers],axis=1, \n",
    "                          join_axes=[recommender.index]).drop(list(recommender.columns)[2:],axis=1)\n",
    "   \n",
    "    try_these.loc['total'] = try_these.sum(axis=0)\n",
    "    try_these.loc['sim.sum'] = try_these.mul(try_these['corr'],axis=0).sum()    \n",
    "    try_these.loc['total/sim.sum'] = try_these.loc['total'] / try_these.loc['sim.sum']     \n",
    "    top_5 = list(try_these.T['total/sim.sum'].sort_values(ascending=False).head(5).index)\n",
    "    return beers[beers.index.isin(top_5)][['beer_name','brewery','beer_style','BAscore']]"
   ]
  },
  {
   "cell_type": "code",
   "execution_count": 4,
   "metadata": {},
   "outputs": [
    {
     "name": "stderr",
     "output_type": "stream",
     "text": [
      "C:\\ProgramData\\Anaconda3\\lib\\site-packages\\ipykernel_launcher.py:18: RuntimeWarning: divide by zero encountered in log\n",
      "C:\\ProgramData\\Anaconda3\\lib\\site-packages\\ipykernel_launcher.py:19: RuntimeWarning: invalid value encountered in sqrt\n",
      "C:\\ProgramData\\Anaconda3\\lib\\site-packages\\ipykernel_launcher.py:18: RuntimeWarning: divide by zero encountered in double_scalars\n",
      "C:\\ProgramData\\Anaconda3\\lib\\site-packages\\ipykernel_launcher.py:19: RuntimeWarning: divide by zero encountered in double_scalars\n",
      "C:\\ProgramData\\Anaconda3\\lib\\site-packages\\ipykernel_launcher.py:23: RuntimeWarning: invalid value encountered in double_scalars\n",
      "C:\\ProgramData\\Anaconda3\\lib\\site-packages\\numpy\\lib\\function_base.py:2400: RuntimeWarning: invalid value encountered in true_divide\n",
      "  c /= stddev[:, None]\n",
      "C:\\ProgramData\\Anaconda3\\lib\\site-packages\\numpy\\lib\\function_base.py:2401: RuntimeWarning: invalid value encountered in true_divide\n",
      "  c /= stddev[None, :]\n"
     ]
    },
    {
     "data": {
      "text/html": [
       "<div>\n",
       "<style scoped>\n",
       "    .dataframe tbody tr th:only-of-type {\n",
       "        vertical-align: middle;\n",
       "    }\n",
       "\n",
       "    .dataframe tbody tr th {\n",
       "        vertical-align: top;\n",
       "    }\n",
       "\n",
       "    .dataframe thead th {\n",
       "        text-align: right;\n",
       "    }\n",
       "</style>\n",
       "<table border=\"1\" class=\"dataframe\">\n",
       "  <thead>\n",
       "    <tr style=\"text-align: right;\">\n",
       "      <th></th>\n",
       "      <th>beer_name</th>\n",
       "      <th>brewery</th>\n",
       "      <th>beer_style</th>\n",
       "      <th>BAscore</th>\n",
       "    </tr>\n",
       "    <tr>\n",
       "      <th>beer_id</th>\n",
       "      <th></th>\n",
       "      <th></th>\n",
       "      <th></th>\n",
       "      <th></th>\n",
       "    </tr>\n",
       "  </thead>\n",
       "  <tbody>\n",
       "    <tr>\n",
       "      <th>611</th>\n",
       "      <td>Solis Occasus - West Coaster IPA</td>\n",
       "      <td>Mike Hess Brewing - Miramar</td>\n",
       "      <td>American IPA</td>\n",
       "      <td>3.81</td>\n",
       "    </tr>\n",
       "    <tr>\n",
       "      <th>1840</th>\n",
       "      <td>Suparillo</td>\n",
       "      <td>Other Half Brewing Co.</td>\n",
       "      <td>American Imperial IPA</td>\n",
       "      <td>4.18</td>\n",
       "    </tr>\n",
       "    <tr>\n",
       "      <th>3793</th>\n",
       "      <td>Apiary</td>\n",
       "      <td>Kane Brewing Company</td>\n",
       "      <td>Belgian Saison</td>\n",
       "      <td>3.84</td>\n",
       "    </tr>\n",
       "    <tr>\n",
       "      <th>6294</th>\n",
       "      <td>Dark Secret</td>\n",
       "      <td>BrickStone Restaurant &amp; Brewery</td>\n",
       "      <td>American Imperial Stout</td>\n",
       "      <td>4.32</td>\n",
       "    </tr>\n",
       "    <tr>\n",
       "      <th>7474</th>\n",
       "      <td>As You Wish...</td>\n",
       "      <td>Pipeworks Brewing Company</td>\n",
       "      <td>American Imperial Porter</td>\n",
       "      <td>4.43</td>\n",
       "    </tr>\n",
       "  </tbody>\n",
       "</table>\n",
       "</div>"
      ],
      "text/plain": [
       "                                beer_name                          brewery  \\\n",
       "beer_id                                                                      \n",
       "611      Solis Occasus - West Coaster IPA      Mike Hess Brewing - Miramar   \n",
       "1840                            Suparillo           Other Half Brewing Co.   \n",
       "3793                               Apiary             Kane Brewing Company   \n",
       "6294                          Dark Secret  BrickStone Restaurant & Brewery   \n",
       "7474                       As You Wish...        Pipeworks Brewing Company   \n",
       "\n",
       "                       beer_style  BAscore  \n",
       "beer_id                                     \n",
       "611                  American IPA     3.81  \n",
       "1840        American Imperial IPA     4.18  \n",
       "3793               Belgian Saison     3.84  \n",
       "6294      American Imperial Stout     4.32  \n",
       "7474     American Imperial Porter     4.43  "
      ]
     },
     "execution_count": 4,
     "metadata": {},
     "output_type": "execute_result"
    }
   ],
   "source": [
    "\n",
    "\n",
    "generate_recommendations([9653,9650,2678,9033,977,4146,982],[3.7,4.4,2.8,3.2,4.2,4.7,4.2])"
   ]
  },
  {
   "cell_type": "code",
   "execution_count": null,
   "metadata": {},
   "outputs": [],
   "source": [
    "#beers[(beers.beer_name == 'Lager') & (beers.brewery == 'Brooklyn Brewery')]\n",
    "#beers[(beers.beer_name == 'Two Hearted Ale')]\n"
   ]
  },
  {
   "cell_type": "code",
   "execution_count": null,
   "metadata": {},
   "outputs": [],
   "source": [
    "select_random_user = reviews.sample(1)['username'].values\n",
    "select_user_reviews = (\n",
    "    reviews[reviews.username==select_random_user[0]]\n",
    "    .sort_values(by=['beer_id','posted'])\n",
    "    #.drop_duplicates(subset=[\"beer_id\"], keep='first')\n",
    ")\n",
    "#select_user_reviews\n",
    "user_df = (\n",
    "    select_user_reviews\n",
    "    .merge(beers,how='left',on='beer_id')\n",
    "    [['username','score','beer_name','beer_id']]    \n",
    "    .drop_duplicates(subset=['beer_id','username'],keep='first')\n",
    "    .pivot(index='username',columns='beer_id',values='score')\n",
    ")\n",
    "user_df"
   ]
  },
  {
   "cell_type": "code",
   "execution_count": null,
   "metadata": {},
   "outputs": [],
   "source": [
    "uirm = user_item_review_matrix(list(user_df.columns))"
   ]
  },
  {
   "cell_type": "code",
   "execution_count": null,
   "metadata": {},
   "outputs": [],
   "source": [
    "uirm_df = pd.concat([user_df,uirm])\n",
    "rankings = {'user':[],'corr':[],'pairs':[]}\n",
    "for i in range(1,len(uirm_df)):\n",
    "    new_df = uirm_df.iloc[[0,i],:]\n",
    "    new_df = new_df.dropna(axis=1,how='any')     \n",
    "    if new_df.shape[1] < 2:\n",
    "        break\n",
    "    val = list(new_df.values)\n",
    "    corr(val[0],val[1])[0]\n",
    "    rankings['user'].append(new_df.index[1])\n",
    "    rankings['corr'].append(corr(val[0],val[1])[0])\n",
    "    rankings['pairs'].append(new_df.shape[1])"
   ]
  },
  {
   "cell_type": "code",
   "execution_count": null,
   "metadata": {},
   "outputs": [],
   "source": [
    "ranking_df = pd.DataFrame(rankings)\n",
    "ranking_df.set_index('user',inplace=True)\n",
    "recommender = (\n",
    "    pd.merge(ranking_df,uirm,how='left',left_index=True,right_index=True)\n",
    "    .dropna(axis=1,how='all')\n",
    ")\n",
    "\n",
    "for i in range(len(recommender)):\n",
    "    total = recommender\n",
    "\n",
    "#recommender.loc['total']=recommender.sum(axis=0,skipna=True)\n",
    "\n",
    "[]\n",
    "\n",
    "similar_beers = (\n",
    "    reviews[reviews['username'].isin(list(recommender.index))]\n",
    "    .merge(beers,how='left',on='beer_id')\n",
    "    [['username','score','beer_name','beer_id']]    \n",
    "    .drop_duplicates(subset=['beer_id','username'],keep='first')\n",
    "    .pivot(index='username',columns='beer_id',values='score')\n",
    ")\n",
    "recommender"
   ]
  },
  {
   "cell_type": "code",
   "execution_count": null,
   "metadata": {},
   "outputs": [],
   "source": [
    "try_these = pd.concat([recommender,similar_beers],axis=1, join_axes=[recommender.index]).drop(list(recommender.columns)[2:],axis=1)\n",
    "try_these.loc['total'] = try_these.sum(axis=0)\n",
    "try_these.loc['sim.sum'] = try_these.mul(try_these['corr'],axis=0).sum()    \n",
    "try_these.loc['total/sim.sum'] = try_these.loc['total'] / try_these.loc['sim.sum']\n",
    "top_5 = list(try_these.T['total/sim.sum'].sort_values(ascending=False).head(5).index)\n",
    "beers[beers.index.isin(top_5)][['beer_name','brewery','beer_style','BAscore']]"
   ]
  },
  {
   "cell_type": "code",
   "execution_count": null,
   "metadata": {},
   "outputs": [],
   "source": [
    "uirm_df = pd.concat([user_df,uirm])\n",
    "for i in range(1,len(uirm_df)):\n",
    "    new_df = uirm_df.iloc[[0,i],:]\n",
    "    new_df = new_df.dropna(axis=1,how='any')\n",
    "    if len(new_df) > 5:\n",
    "        print(new_df)"
   ]
  },
  {
   "cell_type": "code",
   "execution_count": null,
   "metadata": {},
   "outputs": [],
   "source": [
    "uirm"
   ]
  },
  {
   "cell_type": "code",
   "execution_count": null,
   "metadata": {},
   "outputs": [],
   "source": [
    "uirm_df = pd.concat([user_df,uirm])"
   ]
  },
  {
   "cell_type": "code",
   "execution_count": null,
   "metadata": {},
   "outputs": [],
   "source": []
  },
  {
   "cell_type": "code",
   "execution_count": null,
   "metadata": {},
   "outputs": [],
   "source": []
  },
  {
   "cell_type": "code",
   "execution_count": null,
   "metadata": {},
   "outputs": [],
   "source": [
    "reviews_df = pd.DataFrame({'id': pd.Series(reviews.beer_id),\n",
    "                           'text':pd.Series(rev_text),\n",
    "                           'score':pd.Series(reviews.score)})\n",
    "reviews_df.head(4)"
   ]
  },
  {
   "cell_type": "markdown",
   "metadata": {},
   "source": [
    "## Testing NLP on IPA Beers"
   ]
  },
  {
   "cell_type": "code",
   "execution_count": null,
   "metadata": {},
   "outputs": [],
   "source": [
    "len(list(beers[beers.beer_style=='Leipzig Gose'].index))"
   ]
  },
  {
   "cell_type": "code",
   "execution_count": null,
   "metadata": {},
   "outputs": [],
   "source": [
    "cat_ipa = list(beers[beers.beer_style=='American IPA'].index)\n",
    "ipa_revs = reviews_df[reviews_df.id.isin(cat_ipa)]\n",
    "\n",
    "cat_lzg = list(beers[beers.beer_style=='Leipzig Gose'].index)\n",
    "lza_revs = reviews_df[reviews_df.id.isin(cat_lzg)]\n",
    "\n",
    "\n",
    "#ipa_revs = testing[testing.id.isin(cat_ipa)]\n",
    "#ipa_revs['score'] = list(map(int,list(map(round,ipa_revs.score))))"
   ]
  },
  {
   "cell_type": "code",
   "execution_count": null,
   "metadata": {},
   "outputs": [],
   "source": [
    "freq_words(lza_revs.text, 20)"
   ]
  },
  {
   "cell_type": "code",
   "execution_count": null,
   "metadata": {},
   "outputs": [],
   "source": [
    "lza_revs.text = make_corpus(lza_revs)"
   ]
  },
  {
   "cell_type": "code",
   "execution_count": null,
   "metadata": {},
   "outputs": [],
   "source": [
    "model_list, coherence_values = compute_coherence_values(dictionary=dictionary, corpus=doc_term_matrix, texts=reviews_2, start=2, limit=40, step=6)"
   ]
  },
  {
   "cell_type": "code",
   "execution_count": null,
   "metadata": {},
   "outputs": [],
   "source": [
    "lza_revs.text"
   ]
  },
  {
   "cell_type": "code",
   "execution_count": null,
   "metadata": {},
   "outputs": [],
   "source": [
    "lda_model.print_topics()"
   ]
  },
  {
   "cell_type": "code",
   "execution_count": null,
   "metadata": {},
   "outputs": [],
   "source": [
    "pyLDAvis.enable_notebook()\n",
    "vis = pyLDAvis.gensim.prepare(lda_model, doc_term_matrix, dictionary)\n",
    "vis"
   ]
  },
  {
   "cell_type": "code",
   "execution_count": null,
   "metadata": {},
   "outputs": [],
   "source": [
    "cv = CountVectorizer(max_features = 1500)\n",
    "X = cv.fit_transform(corpus_df).toarray()\n",
    "y = ipa_revs.score.values\n",
    "X_train, X_text, y_train, y_test = train_test_split(X, y, test_size = 0.25)"
   ]
  },
  {
   "cell_type": "code",
   "execution_count": null,
   "metadata": {},
   "outputs": [],
   "source": [
    "#model = RandomForestClassifier(n_estimators = 501, criterion = 'entropy')\n",
    "#model.fit(X_train, y_train)"
   ]
  },
  {
   "cell_type": "code",
   "execution_count": null,
   "metadata": {},
   "outputs": [],
   "source": [
    "ipa_revs = testing[testing.id.isin(cat_ipa)]\n",
    "ipa_revs['score'] = list(map(int,list(map(round,ipa_revs.score))))"
   ]
  },
  {
   "cell_type": "code",
   "execution_count": null,
   "metadata": {},
   "outputs": [],
   "source": [
    "%reset"
   ]
  }
 ],
 "metadata": {
  "kernelspec": {
   "display_name": "Python 3",
   "language": "python",
   "name": "python3"
  },
  "language_info": {
   "codemirror_mode": {
    "name": "ipython",
    "version": 3
   },
   "file_extension": ".py",
   "mimetype": "text/x-python",
   "name": "python",
   "nbconvert_exporter": "python",
   "pygments_lexer": "ipython3",
   "version": "3.7.1"
  },
  "varInspector": {
   "cols": {
    "lenName": 16,
    "lenType": 16,
    "lenVar": 40
   },
   "kernels_config": {
    "python": {
     "delete_cmd_postfix": "",
     "delete_cmd_prefix": "del ",
     "library": "var_list.py",
     "varRefreshCmd": "print(var_dic_list())"
    },
    "r": {
     "delete_cmd_postfix": ") ",
     "delete_cmd_prefix": "rm(",
     "library": "var_list.r",
     "varRefreshCmd": "cat(var_dic_list()) "
    }
   },
   "oldHeight": 362.85,
   "position": {
    "height": "40px",
    "left": "1605px",
    "right": "20px",
    "top": "142px",
    "width": "277px"
   },
   "types_to_exclude": [
    "module",
    "function",
    "builtin_function_or_method",
    "instance",
    "_Feature"
   ],
   "varInspector_section_display": "none",
   "window_display": true
  }
 },
 "nbformat": 4,
 "nbformat_minor": 2
}
